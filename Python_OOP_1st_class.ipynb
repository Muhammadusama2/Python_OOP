{
 "cells": [
  {
   "cell_type": "markdown",
   "id": "58c62a8d",
   "metadata": {},
   "source": [
    "# python \n",
    "**linear programming**  --> one line code ko khete he\n",
    "\n",
    "\n",
    "**conditional base programming** --> if else wali\n",
    "\n",
    "\n",
    "**functional programming** --> jis m function bana kr km kare \n",
    "\n",
    "\n",
    "**OOP** --> jis m classes object bana kr km kare"
   ]
  },
  {
   "cell_type": "markdown",
   "id": "52f5166a",
   "metadata": {},
   "source": [
    "# OOP"
   ]
  },
  {
   "cell_type": "markdown",
   "id": "4413f250",
   "metadata": {},
   "source": [
    "Classes\n",
    "\n",
    "object ==> Everything in python is object \n",
    "       ==> Every object belong to a class\n",
    "\n",
    "Attritbutes\n",
    "\n",
    "Method\n",
    "\n",
    "pillar of OOPs\n",
    " - Inheritance\n",
    " - Polymorphism\n",
    " - Encapsulation \n",
    " - Abstraction"
   ]
  },
  {
   "cell_type": "code",
   "execution_count": 11,
   "id": "060439f5",
   "metadata": {},
   "outputs": [],
   "source": [
    "class SamsungA37():      ## Create classs\n",
    "    \n",
    "    ## Class level attribute\n",
    "    ##  Attribute/characteristics/variable\n",
    "    ram = \"4gb\"\n",
    "    screen = \"5.6cm\"\n",
    "    processor = \"kuch be\"\n",
    "    handfree = \"yes\"\n",
    "    mobile_jack = \"yes\"\n",
    "    Weight = \"180g\"\n",
    "    camera = \"2.5mx\"\n",
    "    battery = \"2000mp\"\n",
    "    \n",
    "    \n",
    "    ## Instance level Attribute\n",
    "    def __init__(self,colour):\n",
    "        self.colour = colour\n",
    "    ##colour = \"gray\"\n",
    "    \n",
    "    ## Behaviour/action/ function    ## function inside class ==> methods\n",
    "    \n",
    "    def call(self):\n",
    "        print(\"calling\")\n",
    "    def receive(self):\n",
    "        print(\"receive the call\")\n",
    "    def msg(self):\n",
    "        print(\"receive the msg\")\n",
    "    "
   ]
  },
  {
   "cell_type": "code",
   "execution_count": 12,
   "id": "833db140",
   "metadata": {},
   "outputs": [],
   "source": [
    "## Creating copies of my phone ==> (object)\n",
    "phone1 = SamsungA37()"
   ]
  },
  {
   "cell_type": "code",
   "execution_count": 13,
   "id": "e8bfe58e",
   "metadata": {},
   "outputs": [],
   "source": [
    "phone2 = SamsungA37()"
   ]
  },
  {
   "cell_type": "code",
   "execution_count": 14,
   "id": "521ab689",
   "metadata": {},
   "outputs": [],
   "source": [
    "phone3 = SamsungA37()"
   ]
  },
  {
   "cell_type": "code",
   "execution_count": 15,
   "id": "3b48a305",
   "metadata": {},
   "outputs": [
    {
     "data": {
      "text/plain": [
       "'4gb'"
      ]
     },
     "execution_count": 15,
     "metadata": {},
     "output_type": "execute_result"
    }
   ],
   "source": [
    "phone1.ram"
   ]
  },
  {
   "cell_type": "code",
   "execution_count": 16,
   "id": "cb73b6b9",
   "metadata": {},
   "outputs": [
    {
     "data": {
      "text/plain": [
       "'kuch be'"
      ]
     },
     "execution_count": 16,
     "metadata": {},
     "output_type": "execute_result"
    }
   ],
   "source": [
    "phone2.processor"
   ]
  },
  {
   "cell_type": "code",
   "execution_count": 17,
   "id": "ad784d85",
   "metadata": {},
   "outputs": [
    {
     "data": {
      "text/plain": [
       "'yes'"
      ]
     },
     "execution_count": 17,
     "metadata": {},
     "output_type": "execute_result"
    }
   ],
   "source": [
    "phone3.mobile_jack"
   ]
  },
  {
   "cell_type": "code",
   "execution_count": 18,
   "id": "963f4c18",
   "metadata": {},
   "outputs": [
    {
     "name": "stdout",
     "output_type": "stream",
     "text": [
      "receive the call\n"
     ]
    }
   ],
   "source": [
    "phone3.receive()"
   ]
  },
  {
   "cell_type": "code",
   "execution_count": 64,
   "id": "69a34986",
   "metadata": {},
   "outputs": [],
   "source": [
    "class Patient():\n",
    "    ## Some attributes vales are some for every object . (Class attribute)\n",
    "    \n",
    "    \n",
    "    \n",
    "    \n",
    "    ## Some attributes vales are different for every object (object/instance attributes)\n",
    "    \n",
    "    def __init__(self,name,f_name,patient_id,diseases,Contact_no,bed_no):\n",
    "        \n",
    "        ## initializer (constructor)  ==> python m init hota or languages m constructor hota\n",
    "        self.name = name\n",
    "        self.f_name = f_name\n",
    "        self.patient_id = patient_id\n",
    "        self.diseases = diseases\n",
    "        self.Contact_no = Contact_no\n",
    "        self.bed_no = bed_no\n",
    "    \n",
    "    def admittied(self,diesease):\n",
    "        if diesease == \"yes\":\n",
    "            print(f\"{self.name} is admitted\")\n",
    "        else:\n",
    "            print(\"you are ok your patient\")\n",
    "    def discharged(self,bill):\n",
    "        if bill == \"yes\":\n",
    "            print(f\"{self.name} bill is clear u leave now hospial\")\n",
    "        else:\n",
    "            print(\"plz clear the bill then u leave now the hospital\")"
   ]
  },
  {
   "cell_type": "code",
   "execution_count": 65,
   "id": "0d2e4182",
   "metadata": {},
   "outputs": [],
   "source": [
    "patient1 = Patient(\"usama\",\"Faisal\",\"12345\",\"koi be nh\",\"0123456789\",\"0013\")\n",
    "## patient1 object ban gya wo direct self m jay ga "
   ]
  },
  {
   "cell_type": "code",
   "execution_count": 66,
   "id": "5ad08fa7",
   "metadata": {},
   "outputs": [],
   "source": [
    "patient2 = Patient(\"Daniyal\",\"Faisal\",\"12345\",\"koi be nh\",\"01234\",\"0014\")"
   ]
  },
  {
   "cell_type": "code",
   "execution_count": 67,
   "id": "73e61e0b",
   "metadata": {},
   "outputs": [],
   "source": [
    "patient3 = Patient(\"moiz\",\"Faisal\",\"123\",\"koi be nh\",\"012345678\",\"0015\")"
   ]
  },
  {
   "cell_type": "code",
   "execution_count": 68,
   "id": "40bcf695",
   "metadata": {},
   "outputs": [
    {
     "data": {
      "text/plain": [
       "'usama'"
      ]
     },
     "execution_count": 68,
     "metadata": {},
     "output_type": "execute_result"
    }
   ],
   "source": [
    "patient1.name"
   ]
  },
  {
   "cell_type": "code",
   "execution_count": 69,
   "id": "b78fa716",
   "metadata": {},
   "outputs": [
    {
     "data": {
      "text/plain": [
       "'Faisal'"
      ]
     },
     "execution_count": 69,
     "metadata": {},
     "output_type": "execute_result"
    }
   ],
   "source": [
    "patient1.f_name"
   ]
  },
  {
   "cell_type": "code",
   "execution_count": 70,
   "id": "e2a8e1ef",
   "metadata": {},
   "outputs": [
    {
     "data": {
      "text/plain": [
       "'12345'"
      ]
     },
     "execution_count": 70,
     "metadata": {},
     "output_type": "execute_result"
    }
   ],
   "source": [
    "patient2.patient_id"
   ]
  },
  {
   "cell_type": "code",
   "execution_count": 71,
   "id": "af15df63",
   "metadata": {},
   "outputs": [
    {
     "data": {
      "text/plain": [
       "'0014'"
      ]
     },
     "execution_count": 71,
     "metadata": {},
     "output_type": "execute_result"
    }
   ],
   "source": [
    "patient2.bed_no"
   ]
  },
  {
   "cell_type": "code",
   "execution_count": 72,
   "id": "1fa9e647",
   "metadata": {},
   "outputs": [
    {
     "name": "stdout",
     "output_type": "stream",
     "text": [
      "you are ok your patient\n"
     ]
    }
   ],
   "source": [
    "patient1.admittied(\"no\")"
   ]
  },
  {
   "cell_type": "code",
   "execution_count": 73,
   "id": "c77f8835",
   "metadata": {},
   "outputs": [
    {
     "name": "stdout",
     "output_type": "stream",
     "text": [
      "usama is admitted\n"
     ]
    }
   ],
   "source": [
    "patient1.admittied(\"yes\")"
   ]
  },
  {
   "cell_type": "code",
   "execution_count": 74,
   "id": "47540726",
   "metadata": {},
   "outputs": [
    {
     "name": "stdout",
     "output_type": "stream",
     "text": [
      "usama bill is clear u leave now hospial\n"
     ]
    }
   ],
   "source": [
    "patient1.discharged(\"yes\")"
   ]
  },
  {
   "cell_type": "code",
   "execution_count": 75,
   "id": "d37111d3",
   "metadata": {},
   "outputs": [
    {
     "name": "stdout",
     "output_type": "stream",
     "text": [
      "plz clear the bill then u leave now the hospital\n"
     ]
    }
   ],
   "source": [
    "patient1.discharged(\"no\")"
   ]
  },
  {
   "cell_type": "code",
   "execution_count": null,
   "id": "359860c8",
   "metadata": {},
   "outputs": [],
   "source": []
  }
 ],
 "metadata": {
  "kernelspec": {
   "display_name": "Python 3 (ipykernel)",
   "language": "python",
   "name": "python3"
  },
  "language_info": {
   "codemirror_mode": {
    "name": "ipython",
    "version": 3
   },
   "file_extension": ".py",
   "mimetype": "text/x-python",
   "name": "python",
   "nbconvert_exporter": "python",
   "pygments_lexer": "ipython3",
   "version": "3.9.7"
  }
 },
 "nbformat": 4,
 "nbformat_minor": 5
}
